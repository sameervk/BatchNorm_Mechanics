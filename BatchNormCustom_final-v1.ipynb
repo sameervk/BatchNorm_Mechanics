{
 "cells": [
  {
   "cell_type": "code",
   "execution_count": 1,
   "metadata": {},
   "outputs": [
    {
     "data": {
      "text/html": [
       "<style>.container { width:100% !important; }</style>"
      ],
      "text/plain": [
       "<IPython.core.display.HTML object>"
      ]
     },
     "metadata": {},
     "output_type": "display_data"
    }
   ],
   "source": [
    "from IPython.core.display import display, HTML\n",
    "display(HTML(\"<style>.container { width:100% !important; }</style>\"))"
   ]
  },
  {
   "cell_type": "markdown",
   "metadata": {},
   "source": [
    "### Summary"
   ]
  },
  {
   "cell_type": "markdown",
   "metadata": {},
   "source": [
    "> 1. Successfully implemented the calculation of Batch Normalization. \n",
    "\n",
    "> 2. Written in tensorflow and executed using Keras Layers.\n",
    "\n",
    "> 3. Tested on MNIST dataset. \n",
    "\n",
    "> 4. 94% training, validation and test accuracy for 10 epochs.\n",
    "\n",
    "> 5. Results cross-checked by replacing the custom batch norm calculation with the equation using *momentum* \n",
    "     for calculating batch norm as implemented in tensorflow."
   ]
  },
  {
   "cell_type": "code",
   "execution_count": 2,
   "metadata": {},
   "outputs": [],
   "source": [
    "import tensorflow as tf"
   ]
  },
  {
   "cell_type": "code",
   "execution_count": 3,
   "metadata": {},
   "outputs": [
    {
     "data": {
      "text/plain": [
       "'2.1.0'"
      ]
     },
     "execution_count": 3,
     "metadata": {},
     "output_type": "execute_result"
    }
   ],
   "source": [
    "tf.__version__"
   ]
  },
  {
   "cell_type": "code",
   "execution_count": 4,
   "metadata": {},
   "outputs": [],
   "source": [
    "import numpy as np"
   ]
  },
  {
   "cell_type": "markdown",
   "metadata": {},
   "source": [
    "### Loading data"
   ]
  },
  {
   "cell_type": "code",
   "execution_count": 5,
   "metadata": {},
   "outputs": [],
   "source": [
    "(x_train, y_train), (x_test, y_test) = tf.keras.datasets.mnist.load_data()"
   ]
  },
  {
   "cell_type": "code",
   "execution_count": 6,
   "metadata": {},
   "outputs": [
    {
     "data": {
      "text/plain": [
       "60000"
      ]
     },
     "execution_count": 6,
     "metadata": {},
     "output_type": "execute_result"
    }
   ],
   "source": [
    "len(x_train)"
   ]
  },
  {
   "cell_type": "code",
   "execution_count": 7,
   "metadata": {},
   "outputs": [
    {
     "data": {
      "text/plain": [
       "(60000, 28, 28)"
      ]
     },
     "execution_count": 7,
     "metadata": {},
     "output_type": "execute_result"
    }
   ],
   "source": [
    "x_train.shape"
   ]
  },
  {
   "cell_type": "code",
   "execution_count": 8,
   "metadata": {},
   "outputs": [
    {
     "data": {
      "text/plain": [
       "numpy.ndarray"
      ]
     },
     "execution_count": 8,
     "metadata": {},
     "output_type": "execute_result"
    }
   ],
   "source": [
    "type(x_train[0])"
   ]
  },
  {
   "cell_type": "code",
   "execution_count": 9,
   "metadata": {},
   "outputs": [
    {
     "data": {
      "text/plain": [
       "(10000, 28, 28)"
      ]
     },
     "execution_count": 9,
     "metadata": {},
     "output_type": "execute_result"
    }
   ],
   "source": [
    "x_test.shape"
   ]
  },
  {
   "cell_type": "code",
   "execution_count": 10,
   "metadata": {},
   "outputs": [
    {
     "data": {
      "text/plain": [
       "255"
      ]
     },
     "execution_count": 10,
     "metadata": {},
     "output_type": "execute_result"
    }
   ],
   "source": [
    "np.max(x_train)"
   ]
  },
  {
   "cell_type": "code",
   "execution_count": 11,
   "metadata": {},
   "outputs": [
    {
     "data": {
      "text/plain": [
       "0"
      ]
     },
     "execution_count": 11,
     "metadata": {},
     "output_type": "execute_result"
    }
   ],
   "source": [
    "np.min(x_train)"
   ]
  },
  {
   "cell_type": "markdown",
   "metadata": {},
   "source": [
    "#### Exploring the labels"
   ]
  },
  {
   "cell_type": "code",
   "execution_count": 12,
   "metadata": {},
   "outputs": [
    {
     "data": {
      "text/plain": [
       "(60000,)"
      ]
     },
     "execution_count": 12,
     "metadata": {},
     "output_type": "execute_result"
    }
   ],
   "source": [
    "y_train.shape"
   ]
  },
  {
   "cell_type": "code",
   "execution_count": 13,
   "metadata": {},
   "outputs": [
    {
     "data": {
      "text/plain": [
       "numpy.ndarray"
      ]
     },
     "execution_count": 13,
     "metadata": {},
     "output_type": "execute_result"
    }
   ],
   "source": [
    "type(y_train)"
   ]
  },
  {
   "cell_type": "code",
   "execution_count": 14,
   "metadata": {},
   "outputs": [
    {
     "data": {
      "text/plain": [
       "(array([0, 1, 2, 3, 4, 5, 6, 7, 8, 9], dtype=uint8),\n",
       " array([5923, 6742, 5958, 6131, 5842, 5421, 5918, 6265, 5851, 5949]))"
      ]
     },
     "execution_count": 14,
     "metadata": {},
     "output_type": "execute_result"
    }
   ],
   "source": [
    "np.unique(y_train, return_counts=True)"
   ]
  },
  {
   "cell_type": "markdown",
   "metadata": {},
   "source": [
    "    * data seems decently balanced"
   ]
  },
  {
   "cell_type": "code",
   "execution_count": 15,
   "metadata": {},
   "outputs": [
    {
     "data": {
      "text/plain": [
       "(array([0, 1, 2, 3, 4, 5, 6, 7, 8, 9], dtype=uint8),\n",
       " array([ 980, 1135, 1032, 1010,  982,  892,  958, 1028,  974, 1009]))"
      ]
     },
     "execution_count": 15,
     "metadata": {},
     "output_type": "execute_result"
    }
   ],
   "source": [
    "np.unique(y_test, return_counts=True)"
   ]
  },
  {
   "cell_type": "code",
   "execution_count": null,
   "metadata": {},
   "outputs": [],
   "source": []
  },
  {
   "cell_type": "markdown",
   "metadata": {},
   "source": [
    "### Visualization"
   ]
  },
  {
   "cell_type": "code",
   "execution_count": 16,
   "metadata": {},
   "outputs": [],
   "source": [
    "import matplotlib.pyplot as plt"
   ]
  },
  {
   "cell_type": "code",
   "execution_count": 17,
   "metadata": {},
   "outputs": [
    {
     "data": {
      "image/png": "[encoded data removed]",
      "text/plain": [
       "<Figure size 432x288 with 9 Axes>"
      ]
     },
     "metadata": {
      "needs_background": "light"
     },
     "output_type": "display_data"
    }
   ],
   "source": [
    "fig, ax = plt.subplots(3,3)\n",
    "ax = ax.flatten()\n",
    "for i,j in enumerate(ax):\n",
    "    \n",
    "    j.imshow(x_train[i])"
   ]
  },
  {
   "cell_type": "markdown",
   "metadata": {},
   "source": [
    "### Preprocessing"
   ]
  },
  {
   "cell_type": "code",
   "execution_count": 18,
   "metadata": {},
   "outputs": [
    {
     "data": {
      "text/plain": [
       "(28, 28)"
      ]
     },
     "execution_count": 18,
     "metadata": {},
     "output_type": "execute_result"
    }
   ],
   "source": [
    "x_train[0].shape"
   ]
  },
  {
   "cell_type": "code",
   "execution_count": 19,
   "metadata": {},
   "outputs": [
    {
     "data": {
      "text/plain": [
       "(60000, 784)"
      ]
     },
     "execution_count": 19,
     "metadata": {},
     "output_type": "execute_result"
    }
   ],
   "source": [
    "x_train = x_train.reshape(-1, 28*28)\n",
    "x_train.shape"
   ]
  },
  {
   "cell_type": "code",
   "execution_count": 20,
   "metadata": {},
   "outputs": [],
   "source": [
    "x_test = x_test.reshape(-1, 28*28)"
   ]
  },
  {
   "cell_type": "markdown",
   "metadata": {},
   "source": [
    "#### Scaling the image data"
   ]
  },
  {
   "cell_type": "code",
   "execution_count": 21,
   "metadata": {},
   "outputs": [],
   "source": [
    "from sklearn.preprocessing import StandardScaler"
   ]
  },
  {
   "cell_type": "code",
   "execution_count": 22,
   "metadata": {},
   "outputs": [],
   "source": [
    "stdscaler = StandardScaler()"
   ]
  },
  {
   "cell_type": "code",
   "execution_count": 23,
   "metadata": {},
   "outputs": [],
   "source": [
    "stdscaler_fit = stdscaler.fit(x_train)"
   ]
  },
  {
   "cell_type": "code",
   "execution_count": 24,
   "metadata": {},
   "outputs": [],
   "source": [
    "x_train_scaled = stdscaler_fit.transform(x_train)\n",
    "x_test_scaled = stdscaler_fit.transform(x_test)"
   ]
  },
  {
   "cell_type": "code",
   "execution_count": 25,
   "metadata": {},
   "outputs": [
    {
     "data": {
      "text/plain": [
       "dtype('float64')"
      ]
     },
     "execution_count": 25,
     "metadata": {},
     "output_type": "execute_result"
    }
   ],
   "source": [
    "x_train_scaled.dtype"
   ]
  },
  {
   "cell_type": "code",
   "execution_count": 26,
   "metadata": {},
   "outputs": [],
   "source": [
    "x_train_scaled = x_train_scaled.astype(dtype = 'float32', copy=False)"
   ]
  },
  {
   "cell_type": "code",
   "execution_count": 27,
   "metadata": {},
   "outputs": [
    {
     "data": {
      "text/plain": [
       "dtype('float32')"
      ]
     },
     "execution_count": 27,
     "metadata": {},
     "output_type": "execute_result"
    }
   ],
   "source": [
    "x_train_scaled.dtype"
   ]
  },
  {
   "cell_type": "code",
   "execution_count": 28,
   "metadata": {},
   "outputs": [],
   "source": [
    "x_test_scaled = x_test_scaled.astype(dtype = 'float32', copy=False)"
   ]
  },
  {
   "cell_type": "code",
   "execution_count": 29,
   "metadata": {},
   "outputs": [
    {
     "data": {
      "text/plain": [
       "244.94693"
      ]
     },
     "execution_count": 29,
     "metadata": {},
     "output_type": "execute_result"
    }
   ],
   "source": [
    "np.max(x_train_scaled)"
   ]
  },
  {
   "cell_type": "code",
   "execution_count": 30,
   "metadata": {},
   "outputs": [
    {
     "data": {
      "text/plain": [
       "-1.274208"
      ]
     },
     "execution_count": 30,
     "metadata": {},
     "output_type": "execute_result"
    }
   ],
   "source": [
    "np.min(x_train_scaled)"
   ]
  },
  {
   "cell_type": "markdown",
   "metadata": {},
   "source": [
    "#### One-hot encoding of y"
   ]
  },
  {
   "cell_type": "code",
   "execution_count": 31,
   "metadata": {},
   "outputs": [],
   "source": [
    "y_onehot_train = tf.keras.utils.to_categorical(y_train, num_classes=10, dtype='float32')"
   ]
  },
  {
   "cell_type": "code",
   "execution_count": 32,
   "metadata": {},
   "outputs": [
    {
     "data": {
      "text/plain": [
       "(60000, 10)"
      ]
     },
     "execution_count": 32,
     "metadata": {},
     "output_type": "execute_result"
    }
   ],
   "source": [
    "y_onehot_train.shape"
   ]
  },
  {
   "cell_type": "code",
   "execution_count": 33,
   "metadata": {},
   "outputs": [
    {
     "data": {
      "text/plain": [
       "array([0., 0., 0., 0., 0., 1., 0., 0., 0., 0.], dtype=float32)"
      ]
     },
     "execution_count": 33,
     "metadata": {},
     "output_type": "execute_result"
    }
   ],
   "source": [
    "# example\n",
    "y_onehot_train[0]"
   ]
  },
  {
   "cell_type": "code",
   "execution_count": 34,
   "metadata": {},
   "outputs": [],
   "source": [
    "y_onehot_test = tf.keras.utils.to_categorical(y_test, num_classes=10, dtype='float32')"
   ]
  },
  {
   "cell_type": "markdown",
   "metadata": {},
   "source": [
    "#### Creating validation data"
   ]
  },
  {
   "cell_type": "code",
   "execution_count": 35,
   "metadata": {},
   "outputs": [],
   "source": [
    "from sklearn.utils import shuffle"
   ]
  },
  {
   "cell_type": "code",
   "execution_count": 36,
   "metadata": {},
   "outputs": [],
   "source": [
    "# for reproducibility\n",
    "random_seed = 100"
   ]
  },
  {
   "cell_type": "code",
   "execution_count": 37,
   "metadata": {},
   "outputs": [],
   "source": [
    "x_train_scaled, y_onehot_train = shuffle(x_train_scaled, y_onehot_train, random_state = random_seed)"
   ]
  },
  {
   "cell_type": "code",
   "execution_count": 38,
   "metadata": {},
   "outputs": [],
   "source": [
    "x_valid_scaled = x_train_scaled[:5000]\n",
    "y_onehot_valid =  y_onehot_train[:5000]"
   ]
  },
  {
   "cell_type": "code",
   "execution_count": 39,
   "metadata": {},
   "outputs": [],
   "source": [
    "x_train_scaled = x_train_scaled[5000:]\n",
    "y_onehot_train =  y_onehot_train[5000:]"
   ]
  },
  {
   "cell_type": "code",
   "execution_count": null,
   "metadata": {},
   "outputs": [],
   "source": []
  },
  {
   "cell_type": "markdown",
   "metadata": {},
   "source": [
    "#### Creating tf.data.Datasets"
   ]
  },
  {
   "cell_type": "code",
   "execution_count": 40,
   "metadata": {},
   "outputs": [],
   "source": [
    "train_dataset = tf.data.Dataset.from_tensor_slices((x_train_scaled, y_onehot_train))\n",
    "test_dataset = tf.data.Dataset.from_tensor_slices((x_test_scaled, y_onehot_test))\n",
    "valid_dataset = tf.data.Dataset.from_tensor_slices((x_valid_scaled, y_onehot_valid))"
   ]
  },
  {
   "cell_type": "code",
   "execution_count": 41,
   "metadata": {},
   "outputs": [],
   "source": [
    "minibatch = 60 # used in the paper"
   ]
  },
  {
   "cell_type": "code",
   "execution_count": 42,
   "metadata": {},
   "outputs": [
    {
     "data": {
      "text/plain": [
       "60000"
      ]
     },
     "execution_count": 42,
     "metadata": {},
     "output_type": "execute_result"
    }
   ],
   "source": [
    "buffersize = len(y_train)\n",
    "buffersize"
   ]
  },
  {
   "cell_type": "code",
   "execution_count": 43,
   "metadata": {},
   "outputs": [],
   "source": [
    "train_dataset = train_dataset.shuffle(buffer_size=buffersize, seed=random_seed,\n",
    "                                     reshuffle_each_iteration=True).batch(minibatch, \n",
    "                                                                          drop_remainder = True).prefetch(buffer_size=\n",
    "                                                                                                          tf.data.experimental.AUTOTUNE)"
   ]
  },
  {
   "cell_type": "code",
   "execution_count": 44,
   "metadata": {},
   "outputs": [],
   "source": [
    "valid_dataset = valid_dataset.shuffle(buffer_size=buffersize, seed=random_seed, \n",
    "                                      reshuffle_each_iteration=False).batch(batch_size=minibatch).prefetch(buffer_size=tf.data.experimental.AUTOTUNE)\n",
    "test_dataset = test_dataset.shuffle(buffer_size=buffersize, seed=random_seed, \n",
    "                                      reshuffle_each_iteration=False).batch(batch_size=minibatch).prefetch(buffer_size=tf.data.experimental.AUTOTUNE)"
   ]
  },
  {
   "cell_type": "code",
   "execution_count": 45,
   "metadata": {},
   "outputs": [
    {
     "name": "stdout",
     "output_type": "stream",
     "text": [
      "tf.Tensor([0. 1. 0. 0. 0. 0. 0. 0. 0. 0.], shape=(10,), dtype=float32)\n"
     ]
    }
   ],
   "source": [
    "for i in test_dataset.take(1):\n",
    "    print(i[1][0])"
   ]
  },
  {
   "cell_type": "code",
   "execution_count": null,
   "metadata": {},
   "outputs": [],
   "source": []
  },
  {
   "cell_type": "markdown",
   "metadata": {},
   "source": [
    "### Creating custom layers and keras model"
   ]
  },
  {
   "cell_type": "markdown",
   "metadata": {},
   "source": [
    "    * 3 dense layers followed by 3 batch norm layers and a final dense layer with units equal to number of categories"
   ]
  },
  {
   "cell_type": "markdown",
   "metadata": {},
   "source": [
    "#### Creating Custom Dense Layer"
   ]
  },
  {
   "cell_type": "code",
   "execution_count": 46,
   "metadata": {},
   "outputs": [],
   "source": [
    "class dense_layer(tf.keras.layers.Layer):\n",
    "    \n",
    "    def __init__(self, units, **kwargs):\n",
    "        \n",
    "        super(dense_layer, self).__init__(**kwargs)\n",
    "        self.units =  units\n",
    "        \n",
    "    def build(self, input_shape):\n",
    "        \n",
    "        self.kernel_weights = self.add_weight(name = 'weights', shape = (input_shape[-1], self.units), \n",
    "                                              dtype = self.dtype, initializer=tf.keras.initializers.Orthogonal(gain=1,seed=random_seed),\n",
    "                                             trainable = self.trainable)\n",
    "        self.bias = self.add_weight(name = 'bias', shape = (self.units,), dtype = self.dtype,\n",
    "                                   initializer=tf.keras.initializers.zeros(), trainable = self.trainable)\n",
    "        \n",
    "    def call(self, inputs):\n",
    "        \n",
    "        return tf.add(tf.matmul(inputs, self.kernel_weights), self.bias)\n",
    "    \n",
    "    def get_config(self):\n",
    "        \n",
    "        config = super(dense_layer, self).get_config()\n",
    "        config.update({'units': self.units})\n",
    "        \n",
    "        return config"
   ]
  },
  {
   "cell_type": "code",
   "execution_count": null,
   "metadata": {},
   "outputs": [],
   "source": []
  },
  {
   "cell_type": "markdown",
   "metadata": {},
   "source": [
    "### Custom BatchNorm layer"
   ]
  },
  {
   "cell_type": "code",
   "execution_count": 47,
   "metadata": {},
   "outputs": [],
   "source": [
    "class custombn_paper(tf.keras.layers.Layer):\n",
    "    \n",
    "    \"\"\"\n",
    "    Not implementing momentum as defined in the keras BatchNorm layer\n",
    "    \n",
    "    Population mean and variance are calculated as defined in the paper\n",
    "    \n",
    "    This process can only be used when mini-batch size > 1\n",
    "    \n",
    "    \"\"\"\n",
    "    \n",
    "    \n",
    "    def __init__(self, stateful, **kwargs):\n",
    "        \n",
    "        super(custombn_paper, self).__init__(**kwargs)\n",
    "        \n",
    "        self.stateful = stateful\n",
    "      \n",
    "\n",
    "    def build(self, input_shape):\n",
    "        \n",
    "        self.gamma = self.add_weight(name = 'scale', shape = (1, input_shape[-1]), initializer = tf.keras.initializers.ones(),\n",
    "                                    trainable = self.trainable)\n",
    "        self.beta = self.add_weight(name = 'shift', shape = (1,input_shape[-1]), initializer = tf.keras.initializers.zeros(),\n",
    "                                   trainable = self.trainable)\n",
    "        self.offset = tf.Variable(0.001, dtype = 'float32', trainable=False)\n",
    "        \n",
    "        self.moving_mean = self.add_weight(name = 'moving_mean', shape = (1, input_shape[-1]), initializer = tf.keras.initializers.Zeros(),\n",
    "                                          trainable = False)\n",
    "        self.moving_var =  self.add_weight(name = 'moving_var', shape = (1, input_shape[-1]), initializer = tf.keras.initializers.Zeros(),\n",
    "                                          trainable = False)\n",
    "        \n",
    "        self.batch_count = tf.Variable(0, dtype = 'float32', name = 'batchcount', trainable=False)\n",
    "        \n",
    "        self.batchsize = tf.Variable(2, dtype = 'float32', name='batchsize', trainable=False)\n",
    "\n",
    "        \n",
    "        self.init_mm = self.moving_mean.read_value()\n",
    "        self.init_mv = self.moving_var.read_value()\n",
    "\n",
    "    \n",
    "    def bn_training(self, inputs, axes = [0]):\n",
    "\n",
    "        self.batch_mean, self.batch_var = tf.nn.moments(inputs, axes = axes, keepdims=True)\n",
    "        \n",
    "        self.moving_mean.assign_add(self.batch_mean)\n",
    "        self.moving_var.assign_add(self.batch_var)\n",
    "\n",
    "        return tf.add(tf.multiply(tf.divide(tf.subtract(inputs, self.batch_mean), \n",
    "                                     tf.math.sqrt(tf.add(self.batch_var, self.offset))), self.gamma), self.beta)\n",
    "    \n",
    "\n",
    "    \n",
    "    def update_mm_mv(self):\n",
    "        \"\"\"\n",
    "        Updating mm and mv at the end of epoch\n",
    "        \"\"\"        \n",
    "        self.moving_mean.assign(tf.cond(tf.greater(self.batch_count,0), \n",
    "                                        lambda: tf.divide(self.moving_mean,self.batch_count), lambda: self.moving_mean, name='update_mm'))\n",
    "        \n",
    "        self.moving_var.assign(tf.cond(tf.greater(self.batch_count,0), \n",
    "                                       lambda: tf.multiply(self.moving_var, tf.divide(self.batchsize, tf.multiply(tf.subtract(self.batchsize,1), self.batch_count))),\n",
    "                                       lambda: self.moving_var, name='update_mv'))\n",
    "        \n",
    "    \n",
    "    def bn_inference(self, inputs):\n",
    "        \n",
    "        return tf.add(tf.multiply(tf.divide(tf.subtract(inputs, self.moving_mean), \n",
    "                                     tf.math.sqrt(tf.add(self.moving_var, self.offset))), self.gamma), self.beta)\n",
    "        \n",
    "        \n",
    "        \n",
    "    def reset_states(self):\n",
    "\n",
    "        self.moving_mean.assign(self.init_mm)\n",
    "        self.moving_var.assign(self.init_mv)\n",
    "\n",
    "    def call(self, inputs, training):       \n",
    "        \n",
    "        return tf.cond(tf.equal(training, True, name='train_or_eval'),lambda: self.bn_training(inputs), lambda: self.bn_inference(inputs),\n",
    "                      name = 'call_func') \n",
    "\n",
    "    def get_config(self):\n",
    "        \n",
    "        config = super(custombn_paper, self).get_config()\n",
    "        config.update({'stateful': self.stateful})\n",
    "        \n",
    "        return config\n",
    "        "
   ]
  },
  {
   "cell_type": "code",
   "execution_count": 48,
   "metadata": {},
   "outputs": [],
   "source": [
    "def reset_graph():\n",
    "    tf.keras.backend.clear_session()"
   ]
  },
  {
   "cell_type": "code",
   "execution_count": 49,
   "metadata": {},
   "outputs": [],
   "source": [
    "reset_graph()"
   ]
  },
  {
   "cell_type": "code",
   "execution_count": null,
   "metadata": {},
   "outputs": [],
   "source": []
  },
  {
   "cell_type": "markdown",
   "metadata": {},
   "source": [
    "### Model fitting"
   ]
  },
  {
   "cell_type": "code",
   "execution_count": 50,
   "metadata": {},
   "outputs": [],
   "source": [
    "def model_func_bnpaper(inputshape = [1], units1 = 100, units2 =100, units3=100, classes=10):\n",
    "    \n",
    "    input_lyr = tf.keras.Input(shape = inputshape, batch_size=None, name = 'input')\n",
    "    \n",
    "    dense1 = dense_layer(units = units1, name = 'dense1', trainable = True)(input_lyr)\n",
    "    custombn1 = custombn_paper(stateful = True, name = 'bn1', trainable = True)(dense1)     \n",
    "    activation1 = tf.keras.layers.Activation(activation = tf.nn.tanh, name='actv1')(custombn1)\n",
    "    \n",
    "    dense2 = dense_layer(units = units2, name = 'dense2', trainable = True)(activation1)    \n",
    "    custombn2 = custombn_paper(stateful = True, name = 'bn2', trainable = True)(dense2)     \n",
    "    activation2 = tf.keras.layers.Activation(activation = tf.nn.tanh, name='actv2')(custombn2)\n",
    "    \n",
    "    dense3 = dense_layer(units = units3, name = 'dense3', trainable = True)(activation2)    \n",
    "    custombn3 = custombn_paper(stateful = True, name='bn3', trainable = True)(dense3)     \n",
    "    activation3 = tf.keras.layers.Activation(activation = tf.nn.tanh, name='actv3')(custombn3)\n",
    "    \n",
    "    \n",
    "    output_lyr = dense_layer(units = classes, name='output') (activation3)\n",
    "    # no softmax \n",
    "    \n",
    "    return tf.keras.Model(inputs = [input_lyr], outputs = [output_lyr])"
   ]
  },
  {
   "cell_type": "code",
   "execution_count": null,
   "metadata": {},
   "outputs": [],
   "source": []
  },
  {
   "cell_type": "markdown",
   "metadata": {},
   "source": [
    "### Custom Callbacks"
   ]
  },
  {
   "cell_type": "markdown",
   "metadata": {},
   "source": [
    "#### *Callback for resetting moving mean and variances at the end of each epoch*"
   ]
  },
  {
   "cell_type": "code",
   "execution_count": 51,
   "metadata": {},
   "outputs": [],
   "source": [
    "class custom_callback(tf.keras.callbacks.Callback):\n",
    "    \n",
    "    \"\"\"\n",
    "    This callback resets the moving mean and variances at the end of each epoch.\n",
    "    \"\"\"\n",
    "    \n",
    "    def __init__(self, batchsize, **kwargs):\n",
    "        \n",
    "        super(custom_callback, self).__init__(**kwargs)\n",
    "                \n",
    "        self.batchsize = batchsize\n",
    "        self.batchcount = tf.Variable(0, dtype = tf.int32, trainable=False)\n",
    "        \n",
    "        \n",
    "    def on_train_begin(self, logs =None):\n",
    "        \"\"\"\n",
    "        At the beginning of the training, the batchsize is assigned to\n",
    "        the batchsize variables of the bn layers for correct calc. of \n",
    "        the mm/mv.        \n",
    "        \"\"\"\n",
    "        for layer in self.model.layers:\n",
    "            if layer.__class__.__name__ == 'custombn_paper':\n",
    "                layer.batchsize.assign(self.batchsize)      \n",
    "        \n",
    "    \n",
    "    \n",
    "    def on_train_batch_end(self, batch, logs=None):\n",
    "        \"\"\"\n",
    "        This function in combination with functions below\n",
    "        is used to pass the total number of batches in the training data\n",
    "        for the calculation of mm/mv.\n",
    "        \"\"\"\n",
    "        self.batchcount.assign(batch)\n",
    "        tf.cond(tf.equal(self.batchcount,1), self.at_batch_one, self.at_batch_not_one)     \n",
    "        \n",
    "    def at_batch_one(self):\n",
    "        \"\"\"\n",
    "        When the first batch of the training data has been processed \n",
    "        this function retrieves the total batches(steps) and updates\n",
    "        the corresponding variable in the batch norm layers for \n",
    "        calculating moving mean and moving var.                  \n",
    "        \"\"\"\n",
    "        \n",
    "        for layer in self.model.layers:\n",
    "            if layer.__class__.__name__ == 'custombn_paper':\n",
    "\n",
    "                layer.batch_count.assign(self.model.history.params['steps'])\n",
    "\n",
    "        return None\n",
    "        \n",
    "    def at_batch_not_one(self):\n",
    "        tf.cond(tf.equal(self.batchcount, self.model.history.params['steps']-1), self.at_last_batch, self.at_any_batch)\n",
    "    \n",
    "    def at_last_batch(self):\n",
    "        \"\"\"\n",
    "        This layer updates mm/mv after the last batch of the \n",
    "        training data has been processed.        \n",
    "        \"\"\"\n",
    "        for layer in self.model.layers:\n",
    "            if hasattr(layer, 'update_mm_mv'):\n",
    "                layer.update_mm_mv()\n",
    "        \n",
    "        return None\n",
    "    \n",
    "    def at_any_batch(self):\n",
    "        \"\"\"\n",
    "        Nothing to do any other batch number\n",
    "        \"\"\"\n",
    "        return None\n",
    "\n",
    "       \n",
    "    def on_epoch_begin(self, epoch, logs = None):\n",
    "        \"\"\"\n",
    "        At the beginning of every epoch, the mm/mv need to be reset to zero.\n",
    "        \"\"\"\n",
    "        \n",
    "        self.model.reset_states()       \n"
   ]
  },
  {
   "cell_type": "markdown",
   "metadata": {},
   "source": [
    "#### *Callback for saving best model*"
   ]
  },
  {
   "cell_type": "code",
   "execution_count": 52,
   "metadata": {},
   "outputs": [],
   "source": [
    "import os"
   ]
  },
  {
   "cell_type": "code",
   "execution_count": 53,
   "metadata": {},
   "outputs": [],
   "source": [
    "custom_bnlayer_model = 'cstm_bnlayer_model'\n",
    "\n",
    "if os.path.exists(custom_bnlayer_model):\n",
    "    pass\n",
    "else:\n",
    "    os.mkdir(custom_bnlayer_model)"
   ]
  },
  {
   "cell_type": "code",
   "execution_count": 54,
   "metadata": {},
   "outputs": [],
   "source": [
    "cb_savemodel = tf.keras.callbacks.ModelCheckpoint(os.path.join(custom_bnlayer_model, 'model_{epoch}-{val_loss:.3f}.h5'), mode = 'min',\\\n",
    "                                                 monitor = 'val_loss', save_best_only=True)"
   ]
  },
  {
   "cell_type": "code",
   "execution_count": null,
   "metadata": {},
   "outputs": [],
   "source": []
  },
  {
   "cell_type": "markdown",
   "metadata": {},
   "source": [
    "#### *Callback for Visualizing in TensorBoard*"
   ]
  },
  {
   "cell_type": "code",
   "execution_count": 55,
   "metadata": {},
   "outputs": [],
   "source": [
    "custom_bnlayer_logs = 'cstm_bnlayer_logs'\n",
    "\n",
    "if os.path.exists(custom_bnlayer_logs):\n",
    "    pass\n",
    "else:\n",
    "    os.mkdir(custom_bnlayer_logs)"
   ]
  },
  {
   "cell_type": "code",
   "execution_count": 56,
   "metadata": {},
   "outputs": [],
   "source": [
    "cstm_tb = tf.keras.callbacks.TensorBoard(log_dir = custom_bnlayer_logs, histogram_freq=1, write_graph=True,\\\n",
    "                                        write_images=True)"
   ]
  },
  {
   "cell_type": "code",
   "execution_count": 57,
   "metadata": {},
   "outputs": [
    {
     "data": {
      "text/plain": [
       "[<tensorflow.python.keras.callbacks.TensorBoard at 0x7f6f942eada0>,\n",
       " <tensorflow.python.keras.callbacks.ModelCheckpoint at 0x7f6f942ea7b8>,\n",
       " <__main__.custom_callback at 0x7f6f9430f400>]"
      ]
     },
     "execution_count": 57,
     "metadata": {},
     "output_type": "execute_result"
    }
   ],
   "source": [
    "cb_list = []\n",
    "cb_list.append([cstm_tb,cb_savemodel, custom_callback(batchsize=60)]) \n",
    "cb_list = cb_list[0]\n",
    "cb_list"
   ]
  },
  {
   "cell_type": "markdown",
   "metadata": {},
   "source": [
    "    * Adam optimizer has adaptive learning rate feature"
   ]
  },
  {
   "cell_type": "markdown",
   "metadata": {},
   "source": [
    "### Creating a Model using custom defined BN layers"
   ]
  },
  {
   "cell_type": "code",
   "execution_count": 58,
   "metadata": {},
   "outputs": [],
   "source": [
    "model_bnpaper = model_func_bnpaper(inputshape=(784,))"
   ]
  },
  {
   "cell_type": "code",
   "execution_count": 59,
   "metadata": {},
   "outputs": [
    {
     "name": "stdout",
     "output_type": "stream",
     "text": [
      "Model: \"model\"\n",
      "_________________________________________________________________\n",
      "Layer (type)                 Output Shape              Param #   \n",
      "=================================================================\n",
      "input (InputLayer)           [(None, 784)]             0         \n",
      "_________________________________________________________________\n",
      "dense1 (dense_layer)         (None, 100)               78500     \n",
      "_________________________________________________________________\n",
      "bn1 (custombn_paper)         (None, 100)               403       \n",
      "_________________________________________________________________\n",
      "actv1 (Activation)           (None, 100)               0         \n",
      "_________________________________________________________________\n",
      "dense2 (dense_layer)         (None, 100)               10100     \n",
      "_________________________________________________________________\n",
      "bn2 (custombn_paper)         (None, 100)               403       \n",
      "_________________________________________________________________\n",
      "actv2 (Activation)           (None, 100)               0         \n",
      "_________________________________________________________________\n",
      "dense3 (dense_layer)         (None, 100)               10100     \n",
      "_________________________________________________________________\n",
      "bn3 (custombn_paper)         (None, 100)               403       \n",
      "_________________________________________________________________\n",
      "actv3 (Activation)           (None, 100)               0         \n",
      "_________________________________________________________________\n",
      "output (dense_layer)         (None, 10)                1010      \n",
      "=================================================================\n",
      "Total params: 100,919\n",
      "Trainable params: 100,310\n",
      "Non-trainable params: 609\n",
      "_________________________________________________________________\n"
     ]
    }
   ],
   "source": [
    "model_bnpaper.summary()"
   ]
  },
  {
   "cell_type": "markdown",
   "metadata": {},
   "source": [
    "#### Compiling the Model"
   ]
  },
  {
   "cell_type": "code",
   "execution_count": 60,
   "metadata": {},
   "outputs": [],
   "source": [
    "model_bnpaper.compile(optimizer = tf.keras.optimizers.Adam(learning_rate=0.001),\\\n",
    "                     loss = tf.keras.losses.CategoricalCrossentropy(from_logits=True),\n",
    "                     metrics = [tf.keras.metrics.CategoricalAccuracy()])\n",
    "# If using softmax as the activation of the last layer, then from_logits should be False"
   ]
  },
  {
   "cell_type": "markdown",
   "metadata": {},
   "source": [
    "#### Fitting"
   ]
  },
  {
   "cell_type": "code",
   "execution_count": 61,
   "metadata": {},
   "outputs": [],
   "source": [
    "epochs1=10"
   ]
  },
  {
   "cell_type": "code",
   "execution_count": 62,
   "metadata": {},
   "outputs": [
    {
     "name": "stdout",
     "output_type": "stream",
     "text": [
      "Train for 100 steps, validate for 50 steps\n",
      "Epoch 1/10\n",
      "100/100 [==============================] - 3s 30ms/step - loss: 0.6130 - categorical_accuracy: 0.8245 - val_loss: 0.3467 - val_categorical_accuracy: 0.9017\n",
      "Epoch 2/10\n",
      "100/100 [==============================] - 1s 12ms/step - loss: 0.3456 - categorical_accuracy: 0.9018 - val_loss: 0.3170 - val_categorical_accuracy: 0.9100\n",
      "Epoch 3/10\n",
      "100/100 [==============================] - 1s 10ms/step - loss: 0.3093 - categorical_accuracy: 0.9093 - val_loss: 0.2710 - val_categorical_accuracy: 0.9203\n",
      "Epoch 4/10\n",
      "100/100 [==============================] - 1s 8ms/step - loss: 0.2579 - categorical_accuracy: 0.9240 - val_loss: 0.2437 - val_categorical_accuracy: 0.9293\n",
      "Epoch 5/10\n",
      "100/100 [==============================] - 1s 10ms/step - loss: 0.2528 - categorical_accuracy: 0.9257 - val_loss: 0.2375 - val_categorical_accuracy: 0.9307\n",
      "Epoch 6/10\n",
      "100/100 [==============================] - 1s 9ms/step - loss: 0.2201 - categorical_accuracy: 0.9378 - val_loss: 0.2332 - val_categorical_accuracy: 0.9303\n",
      "Epoch 7/10\n",
      "100/100 [==============================] - 1s 9ms/step - loss: 0.1934 - categorical_accuracy: 0.9408 - val_loss: 0.2067 - val_categorical_accuracy: 0.9437\n",
      "Epoch 8/10\n",
      "100/100 [==============================] - 1s 9ms/step - loss: 0.2020 - categorical_accuracy: 0.9408 - val_loss: 0.1988 - val_categorical_accuracy: 0.9420\n",
      "Epoch 9/10\n",
      "100/100 [==============================] - 1s 9ms/step - loss: 0.1784 - categorical_accuracy: 0.9472 - val_loss: 0.1858 - val_categorical_accuracy: 0.9450\n",
      "Epoch 10/10\n",
      "100/100 [==============================] - 1s 9ms/step - loss: 0.1782 - categorical_accuracy: 0.9495 - val_loss: 0.1834 - val_categorical_accuracy: 0.9470\n"
     ]
    }
   ],
   "source": [
    "cstm_bnlayer_history1 =  model_bnpaper.fit(train_dataset.take(100), epochs=epochs1, verbose=1, \n",
    "                                           callbacks=cb_list, validation_data=valid_dataset.take(50), shuffle=True)"
   ]
  },
  {
   "cell_type": "code",
   "execution_count": 63,
   "metadata": {},
   "outputs": [
    {
     "name": "stdout",
     "output_type": "stream",
     "text": [
      "167/167 [==============================] - 0s 2ms/step - loss: 0.1842 - categorical_accuracy: 0.9459\n"
     ]
    },
    {
     "data": {
      "text/plain": [
       "[0.18415349675063603, 0.9459]"
      ]
     },
     "execution_count": 63,
     "metadata": {},
     "output_type": "execute_result"
    }
   ],
   "source": [
    "# test dataset\n",
    "model_bnpaper.evaluate(test_dataset)"
   ]
  },
  {
   "cell_type": "code",
   "execution_count": 64,
   "metadata": {},
   "outputs": [],
   "source": [
    "del model_bnpaper\n",
    "reset_graph()"
   ]
  },
  {
   "cell_type": "code",
   "execution_count": null,
   "metadata": {},
   "outputs": [],
   "source": []
  },
  {
   "cell_type": "markdown",
   "metadata": {},
   "source": [
    "### Testing the custom BN against the method implemented in tensorflow using Momentum"
   ]
  },
  {
   "cell_type": "code",
   "execution_count": 65,
   "metadata": {},
   "outputs": [],
   "source": [
    "class custombn_keras(tf.keras.layers.Layer):\n",
    "    \n",
    "    \"\"\"\n",
    "    Implementing momentum as defined in the keras BatchNorm layer to calculate\n",
    "    \n",
    "    population mean and variance \n",
    "    \n",
    "    \"\"\"\n",
    "    \n",
    "    \n",
    "    def __init__(self, momentum, stateful, **kwargs):\n",
    "        \n",
    "        super(custombn_keras, self).__init__(**kwargs)\n",
    "        \n",
    "        self.momentum = momentum\n",
    "        self.stateful = stateful\n",
    "        \n",
    "    def build(self, input_shape):\n",
    "        \n",
    "        self.gamma = self.add_weight(name = 'scale', shape = (1, input_shape[-1]), initializer = tf.keras.initializers.ones(),\n",
    "                                    trainable = self.trainable)\n",
    "        self.beta = self.add_weight(name = 'shift', shape = (1,input_shape[-1]), initializer = tf.keras.initializers.zeros(),\n",
    "                                   trainable = self.trainable)\n",
    "        self.offset = tf.Variable(0.001, dtype = 'float32', trainable=False)\n",
    "        \n",
    "        self.moving_mean = self.add_weight(name = 'moving_mean', shape = (1, input_shape[-1]), initializer = tf.keras.initializers.Zeros(),\n",
    "                                          trainable = False)\n",
    "        self.moving_var =  self.add_weight(name = 'moving_var', shape = (1, input_shape[-1]), initializer = tf.keras.initializers.Zeros(),\n",
    "                                          trainable = False)\n",
    "        \n",
    "        self.init_mm = self.moving_mean.read_value()\n",
    "        self.init_mv = self.moving_var.read_value()\n",
    "        \n",
    "    \n",
    "    def bn_training(self, inputs, axes = [0]):\n",
    "        \n",
    "        \n",
    "        self.batch_mean, self.batch_var = tf.nn.moments(inputs, axes = axes, keepdims=True)\n",
    "        \n",
    "        self.moving_mean.assign((1-self.momentum)*self.moving_mean + self.momentum*self.batch_mean)\n",
    "        # as implemented in tensorflow\n",
    "        self.moving_var.assign((1-self.momentum)*self.moving_var + self.momentum*self.batch_var)\n",
    "        \n",
    "        \n",
    "        return tf.add(tf.multiply(tf.divide(tf.subtract(inputs, self.batch_mean), \n",
    "                                     tf.math.sqrt(tf.add(self.batch_var, self.offset))), self.gamma), self.beta)\n",
    "    \n",
    "    def bn_inference(self, inputs):        \n",
    "        \n",
    "        return tf.add(tf.multiply(tf.divide(tf.subtract(inputs, self.moving_mean), \n",
    "                                     tf.math.sqrt(tf.add(self.moving_var, self.offset))), self.gamma), self.beta)\n",
    "        \n",
    "        \n",
    "    def reset_states(self):\n",
    "        \n",
    "        self.moving_mean.assign(self.init_mm)\n",
    "        self.moving_var.assign(self.init_mv)\n",
    "        \n",
    "        \n",
    "    def call(self, inputs, training):     \n",
    "        \n",
    "        return tf.cond(tf.equal(training, True),lambda: self.bn_training(inputs), lambda: self.bn_inference(inputs))       \n",
    "    \n",
    "    def get_config(self):\n",
    "        \n",
    "        config = super(custombn_keras, self).get_config()\n",
    "        config.update({'momentum': self.momentum})\n",
    "        \n",
    "        return config\n",
    "        "
   ]
  },
  {
   "cell_type": "code",
   "execution_count": null,
   "metadata": {},
   "outputs": [],
   "source": []
  },
  {
   "cell_type": "markdown",
   "metadata": {},
   "source": [
    "#### Model function using custombn_keras"
   ]
  },
  {
   "cell_type": "code",
   "execution_count": 66,
   "metadata": {},
   "outputs": [],
   "source": [
    "def model_custombn_keras(inputshape = [1], units1 = 100, units2 =100, units3=100, classes=10):\n",
    "    \n",
    "    input_lyr = tf.keras.Input(shape = inputshape, batch_size=None, name = 'input')\n",
    "    \n",
    "    dense1 = dense_layer(units = units1, name = 'dense1', trainable = True)(input_lyr)\n",
    "    custombn1 = custombn_keras(momentum = 0.99, stateful = True, name = 'bn1', trainable = True)(dense1)     \n",
    "    activation1 = tf.keras.layers.Activation(activation = tf.nn.tanh, name='actv1')(custombn1)\n",
    "    \n",
    "    dense2 = dense_layer(units = units2, name = 'dense2', trainable = True)(activation1)    \n",
    "    custombn2 = custombn_keras(momentum = 0.99, stateful = True, name = 'bn2', trainable = True)(dense2)     \n",
    "    activation2 = tf.keras.layers.Activation(activation = tf.nn.tanh, name='actv2')(custombn2)\n",
    "    \n",
    "    dense3 = dense_layer(units = units3, name = 'dense3', trainable = True)(activation2)    \n",
    "    custombn3 = custombn_keras(momentum = 0.99, stateful = True, name='bn3', trainable = True)(dense3)     \n",
    "    activation3 = tf.keras.layers.Activation(activation = tf.nn.tanh, name='actv3')(custombn3)\n",
    "    \n",
    "    \n",
    "    output_lyr = dense_layer(units = classes, name='output') (activation3)\n",
    "    # no softmax \n",
    "    \n",
    "    return tf.keras.Model(inputs = [input_lyr], outputs = [output_lyr])"
   ]
  },
  {
   "cell_type": "code",
   "execution_count": 67,
   "metadata": {},
   "outputs": [],
   "source": [
    "modelbn_keras = model_custombn_keras(inputshape=(784,))"
   ]
  },
  {
   "cell_type": "code",
   "execution_count": 68,
   "metadata": {},
   "outputs": [
    {
     "name": "stdout",
     "output_type": "stream",
     "text": [
      "Model: \"model\"\n",
      "_________________________________________________________________\n",
      "Layer (type)                 Output Shape              Param #   \n",
      "=================================================================\n",
      "input (InputLayer)           [(None, 784)]             0         \n",
      "_________________________________________________________________\n",
      "dense1 (dense_layer)         (None, 100)               78500     \n",
      "_________________________________________________________________\n",
      "bn1 (custombn_keras)         (None, 100)               401       \n",
      "_________________________________________________________________\n",
      "actv1 (Activation)           (None, 100)               0         \n",
      "_________________________________________________________________\n",
      "dense2 (dense_layer)         (None, 100)               10100     \n",
      "_________________________________________________________________\n",
      "bn2 (custombn_keras)         (None, 100)               401       \n",
      "_________________________________________________________________\n",
      "actv2 (Activation)           (None, 100)               0         \n",
      "_________________________________________________________________\n",
      "dense3 (dense_layer)         (None, 100)               10100     \n",
      "_________________________________________________________________\n",
      "bn3 (custombn_keras)         (None, 100)               401       \n",
      "_________________________________________________________________\n",
      "actv3 (Activation)           (None, 100)               0         \n",
      "_________________________________________________________________\n",
      "output (dense_layer)         (None, 10)                1010      \n",
      "=================================================================\n",
      "Total params: 100,913\n",
      "Trainable params: 100,310\n",
      "Non-trainable params: 603\n",
      "_________________________________________________________________\n"
     ]
    }
   ],
   "source": [
    "modelbn_keras.summary()"
   ]
  },
  {
   "cell_type": "code",
   "execution_count": 69,
   "metadata": {},
   "outputs": [
    {
     "name": "stdout",
     "output_type": "stream",
     "text": [
      "False\n",
      "False\n",
      "True\n",
      "False\n",
      "False\n",
      "True\n",
      "False\n",
      "False\n",
      "True\n",
      "False\n",
      "False\n"
     ]
    }
   ],
   "source": [
    "for layer in modelbn_keras.layers:\n",
    "    print(layer.stateful)"
   ]
  },
  {
   "cell_type": "code",
   "execution_count": 70,
   "metadata": {},
   "outputs": [
    {
     "data": {
      "text/plain": [
       "True"
      ]
     },
     "execution_count": 70,
     "metadata": {},
     "output_type": "execute_result"
    }
   ],
   "source": [
    "modelbn_keras.stateful"
   ]
  },
  {
   "cell_type": "markdown",
   "metadata": {},
   "source": [
    "#### Callbacks"
   ]
  },
  {
   "cell_type": "code",
   "execution_count": 71,
   "metadata": {},
   "outputs": [],
   "source": [
    "class custombn_keras_callbck(tf.keras.callbacks.Callback):\n",
    "    \"\"\"\n",
    "    For resetting mm/mv after each epoch.\n",
    "    \"\"\"\n",
    "    \n",
    "    def __init__(self, **kwargs):\n",
    "        \n",
    "        super(custombn_keras_callbck, self).__init__(**kwargs)\n",
    "            \n",
    "    def on_epoch_begin(self, epoch, logs = None):\n",
    "        \n",
    "        self.model.reset_states()\n"
   ]
  },
  {
   "cell_type": "code",
   "execution_count": null,
   "metadata": {},
   "outputs": [],
   "source": []
  },
  {
   "cell_type": "markdown",
   "metadata": {},
   "source": [
    "##### Model Saving"
   ]
  },
  {
   "cell_type": "code",
   "execution_count": 72,
   "metadata": {},
   "outputs": [],
   "source": [
    "custom_bnkeras_svdmodel = 'cstm_bnkeras_svdmodel'\n",
    "\n",
    "if os.path.exists(custom_bnkeras_svdmodel):\n",
    "    pass\n",
    "else:\n",
    "    os.mkdir(custom_bnkeras_svdmodel)"
   ]
  },
  {
   "cell_type": "code",
   "execution_count": 73,
   "metadata": {},
   "outputs": [],
   "source": [
    "cb_savemodel = tf.keras.callbacks.ModelCheckpoint(os.path.join(custom_bnkeras_svdmodel, 'model_{epoch}-{val_loss:.3f}.h5'), mode = 'min',\\\n",
    "                                                 monitor = 'val_loss', save_best_only=True)"
   ]
  },
  {
   "cell_type": "code",
   "execution_count": null,
   "metadata": {},
   "outputs": [],
   "source": []
  },
  {
   "cell_type": "markdown",
   "metadata": {},
   "source": [
    "##### TensorBoard"
   ]
  },
  {
   "cell_type": "code",
   "execution_count": 74,
   "metadata": {},
   "outputs": [],
   "source": [
    "custom_bnkeras_logs = 'cstm_bnkeras_logs'\n",
    "\n",
    "if os.path.exists(custom_bnkeras_logs):\n",
    "    pass\n",
    "else:\n",
    "    os.mkdir(custom_bnkeras_logs)"
   ]
  },
  {
   "cell_type": "code",
   "execution_count": 75,
   "metadata": {},
   "outputs": [],
   "source": [
    "cstm_tb = tf.keras.callbacks.TensorBoard(log_dir = custom_bnkeras_logs, histogram_freq=1, write_graph=True,\\\n",
    "                                        write_images=True)"
   ]
  },
  {
   "cell_type": "code",
   "execution_count": 76,
   "metadata": {},
   "outputs": [
    {
     "data": {
      "text/plain": [
       "[<tensorflow.python.keras.callbacks.TensorBoard at 0x7f6f413d05f8>,\n",
       " <tensorflow.python.keras.callbacks.ModelCheckpoint at 0x7f6f413d0518>,\n",
       " <__main__.custombn_keras_callbck at 0x7f6f413d07f0>]"
      ]
     },
     "execution_count": 76,
     "metadata": {},
     "output_type": "execute_result"
    }
   ],
   "source": [
    "cb_list = []\n",
    "cb_list.append([cstm_tb,cb_savemodel, custombn_keras_callbck()]) \n",
    "cb_list = cb_list[0]\n",
    "cb_list"
   ]
  },
  {
   "cell_type": "code",
   "execution_count": null,
   "metadata": {},
   "outputs": [],
   "source": []
  },
  {
   "cell_type": "markdown",
   "metadata": {},
   "source": [
    "#### Compiling and Fitting"
   ]
  },
  {
   "cell_type": "code",
   "execution_count": 77,
   "metadata": {},
   "outputs": [],
   "source": [
    "modelbn_keras.compile(optimizer = tf.keras.optimizers.Adam(learning_rate=0.001),\n",
    "                     loss = tf.keras.losses.CategoricalCrossentropy(from_logits=True),\n",
    "                     metrics = [tf.keras.metrics.CategoricalAccuracy()])"
   ]
  },
  {
   "cell_type": "markdown",
   "metadata": {},
   "source": [
    "#### Fitting"
   ]
  },
  {
   "cell_type": "code",
   "execution_count": 78,
   "metadata": {},
   "outputs": [],
   "source": [
    "epochs1=10"
   ]
  },
  {
   "cell_type": "code",
   "execution_count": 79,
   "metadata": {},
   "outputs": [
    {
     "name": "stdout",
     "output_type": "stream",
     "text": [
      "Train for 100 steps, validate for 50 steps\n",
      "Epoch 1/10\n",
      "100/100 [==============================] - 3s 31ms/step - loss: 0.6186 - categorical_accuracy: 0.8262 - val_loss: 0.4266 - val_categorical_accuracy: 0.8663\n",
      "Epoch 2/10\n",
      "100/100 [==============================] - 1s 10ms/step - loss: 0.3411 - categorical_accuracy: 0.9007 - val_loss: 0.3290 - val_categorical_accuracy: 0.9080\n",
      "Epoch 3/10\n",
      "100/100 [==============================] - 1s 9ms/step - loss: 0.2834 - categorical_accuracy: 0.9152 - val_loss: 0.2924 - val_categorical_accuracy: 0.9187\n",
      "Epoch 4/10\n",
      "100/100 [==============================] - 1s 9ms/step - loss: 0.2716 - categorical_accuracy: 0.9193 - val_loss: 0.2992 - val_categorical_accuracy: 0.9117\n",
      "Epoch 5/10\n",
      "100/100 [==============================] - 1s 10ms/step - loss: 0.2340 - categorical_accuracy: 0.9297 - val_loss: 0.2533 - val_categorical_accuracy: 0.9273\n",
      "Epoch 6/10\n",
      "100/100 [==============================] - 1s 10ms/step - loss: 0.2227 - categorical_accuracy: 0.9328 - val_loss: 0.2239 - val_categorical_accuracy: 0.9343\n",
      "Epoch 7/10\n",
      "100/100 [==============================] - 1s 10ms/step - loss: 0.2161 - categorical_accuracy: 0.9407 - val_loss: 0.2280 - val_categorical_accuracy: 0.9337\n",
      "Epoch 8/10\n",
      "100/100 [==============================] - 1s 11ms/step - loss: 0.2106 - categorical_accuracy: 0.9397 - val_loss: 0.2172 - val_categorical_accuracy: 0.9363\n",
      "Epoch 9/10\n",
      "100/100 [==============================] - 1s 10ms/step - loss: 0.1945 - categorical_accuracy: 0.9398 - val_loss: 0.2083 - val_categorical_accuracy: 0.9410\n",
      "Epoch 10/10\n",
      "100/100 [==============================] - 1s 10ms/step - loss: 0.2023 - categorical_accuracy: 0.9387 - val_loss: 0.2067 - val_categorical_accuracy: 0.9417\n"
     ]
    }
   ],
   "source": [
    "custombn_keras_history1 =  modelbn_keras.fit(train_dataset.take(100), epochs=epochs1, verbose=1, \n",
    "                                           callbacks=cb_list, validation_data=valid_dataset.take(50), shuffle=True)"
   ]
  },
  {
   "cell_type": "code",
   "execution_count": 80,
   "metadata": {
    "scrolled": true
   },
   "outputs": [
    {
     "name": "stdout",
     "output_type": "stream",
     "text": [
      "167/167 [==============================] - 0s 2ms/step - loss: 0.2069 - categorical_accuracy: 0.9371\n"
     ]
    },
    {
     "data": {
      "text/plain": [
       "[0.20693755950667186, 0.9371]"
      ]
     },
     "execution_count": 80,
     "metadata": {},
     "output_type": "execute_result"
    }
   ],
   "source": [
    "modelbn_keras.evaluate(test_dataset)"
   ]
  },
  {
   "cell_type": "code",
   "execution_count": 82,
   "metadata": {},
   "outputs": [],
   "source": [
    "reset_graph()\n",
    "del modelbn_keras"
   ]
  },
  {
   "cell_type": "code",
   "execution_count": null,
   "metadata": {},
   "outputs": [],
   "source": []
  }
 ],
 "metadata": {
  "kernelspec": {
   "display_name": "Python (datascience)",
   "language": "python",
   "name": "datascience"
  },
  "language_info": {
   "codemirror_mode": {
    "name": "ipython",
    "version": 3
   },
   "file_extension": ".py",
   "mimetype": "text/x-python",
   "name": "python",
   "nbconvert_exporter": "python",
   "pygments_lexer": "ipython3",
   "version": "3.6.7"
  }
 },
 "nbformat": 4,
 "nbformat_minor": 4
}
